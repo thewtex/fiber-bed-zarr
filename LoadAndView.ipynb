{
 "cells": [
  {
   "cell_type": "code",
   "execution_count": 14,
   "metadata": {},
   "outputs": [],
   "source": [
    "import zarr\n",
    "import xarray as xr\n",
    "\n",
    "from dask.distributed import Client\n",
    "from fsspec.implementations.http import HTTPFileSystem\n",
    "\n",
    "from itkwidgets import view, compare"
   ]
  },
  {
   "cell_type": "code",
   "execution_count": 5,
   "metadata": {},
   "outputs": [
    {
     "name": "stderr",
     "output_type": "stream",
     "text": [
      "\n",
      "Port 43757 is already in use. \n",
      "Perhaps you already have a cluster running?\n",
      "Hosting the diagnostics dashboard on a random port instead.\n"
     ]
    },
    {
     "data": {
      "text/html": [
       "<table style=\"border: 2px solid white;\">\n",
       "<tr>\n",
       "<td style=\"vertical-align: top; border: 0px solid white\">\n",
       "<h3 style=\"text-align: left;\">Client</h3>\n",
       "<ul style=\"text-align: left; list-style: none; margin: 0; padding: 0;\">\n",
       "  <li><b>Scheduler: </b>tcp://127.0.0.1:36985</li>\n",
       "  <li><b>Dashboard: </b><a href='http://127.0.0.1:40887/status' target='_blank'>http://127.0.0.1:40887/status</a>\n",
       "</ul>\n",
       "</td>\n",
       "<td style=\"vertical-align: top; border: 0px solid white\">\n",
       "<h3 style=\"text-align: left;\">Cluster</h3>\n",
       "<ul style=\"text-align: left; list-style:none; margin: 0; padding: 0;\">\n",
       "  <li><b>Workers: </b>4</li>\n",
       "  <li><b>Cores: </b>8</li>\n",
       "  <li><b>Memory: </b>33.55 GB</li>\n",
       "</ul>\n",
       "</td>\n",
       "</tr>\n",
       "</table>"
      ],
      "text/plain": [
       "<Client: 'tcp://127.0.0.1:36985' processes=4 threads=8, memory=33.55 GB>"
      ]
     },
     "execution_count": 5,
     "metadata": {},
     "output_type": "execute_result"
    }
   ],
   "source": [
    "# Start a dask cluster for use on the client side\n",
    "# Local system Dask parallelism\n",
    "client = Client(n_workers=4, dashboard_address=43757)\n",
    "client"
   ]
  },
  {
   "cell_type": "code",
   "execution_count": 6,
   "metadata": {},
   "outputs": [],
   "source": [
    "# We can access our API using fsspec's HTTPFileSystem\n",
    "fs = HTTPFileSystem()\n",
    "# The http mapper gives us a dict-like interface to the API\n",
    "store = fs.get_mapper(\"https://fiber-bed-zarr.netlify.com/rec20160318_191511_232p3_2cm_cont__4097im_1500ms_ML17keV_6.zarr\")"
   ]
  },
  {
   "cell_type": "code",
   "execution_count": 7,
   "metadata": {},
   "outputs": [
    {
     "data": {
      "text/html": [
       "<pre>&lt;xarray.Dataset&gt;\n",
       "Dimensions:                                                     (x: 160, y: 160, z: 135)\n",
       "Coordinates:\n",
       "  * x                                                           (x) float64 7.5 ... 2.552e+03\n",
       "  * y                                                           (y) float64 7.5 ... 2.552e+03\n",
       "  * z                                                           (z) float64 7.5 ... 2.152e+03\n",
       "Data variables:\n",
       "    rec20160318_191511_232p3_2cm_cont__4097im_1500ms_ML17keV_6  (z, y, x) uint8 dask.array&lt;chunksize=(64, 64, 64), meta=np.ndarray&gt;</pre>"
      ],
      "text/plain": [
       "<xarray.Dataset>\n",
       "Dimensions:                                                     (x: 160, y: 160, z: 135)\n",
       "Coordinates:\n",
       "  * x                                                           (x) float64 7.5 ... 2.552e+03\n",
       "  * y                                                           (y) float64 7.5 ... 2.552e+03\n",
       "  * z                                                           (z) float64 7.5 ... 2.152e+03\n",
       "Data variables:\n",
       "    rec20160318_191511_232p3_2cm_cont__4097im_1500ms_ML17keV_6  (z, y, x) uint8 dask.array<chunksize=(64, 64, 64), meta=np.ndarray>"
      ]
     },
     "execution_count": 7,
     "metadata": {},
     "output_type": "execute_result"
    }
   ],
   "source": [
    "ds = xr.open_zarr(store, group='level_4.zarr', consolidated=True)\n",
    "ds"
   ]
  },
  {
   "cell_type": "code",
   "execution_count": 8,
   "metadata": {},
   "outputs": [
    {
     "data": {
      "text/html": [
       "<pre>&lt;xarray.DataArray &#x27;rec20160318_191511_232p3_2cm_cont__4097im_1500ms_ML17keV_6&#x27; (z: 135, y: 160, x: 160)&gt;\n",
       "dask.array&lt;zarr, shape=(135, 160, 160), dtype=uint8, chunksize=(64, 64, 64), chunktype=numpy.ndarray&gt;\n",
       "Coordinates:\n",
       "  * x        (x) float64 7.5 23.5 39.5 55.5 ... 2.52e+03 2.536e+03 2.552e+03\n",
       "  * y        (y) float64 7.5 23.5 39.5 55.5 ... 2.52e+03 2.536e+03 2.552e+03\n",
       "  * z        (z) float64 7.5 23.5 39.5 55.5 ... 2.12e+03 2.136e+03 2.152e+03\n",
       "Attributes:\n",
       "    direction:  [[1.0, 0.0, 0.0], [0.0, 1.0, 0.0], [0.0, 0.0, 1.0]]\n",
       "    units:      μm</pre>"
      ],
      "text/plain": [
       "<xarray.DataArray 'rec20160318_191511_232p3_2cm_cont__4097im_1500ms_ML17keV_6' (z: 135, y: 160, x: 160)>\n",
       "dask.array<zarr, shape=(135, 160, 160), dtype=uint8, chunksize=(64, 64, 64), chunktype=numpy.ndarray>\n",
       "Coordinates:\n",
       "  * x        (x) float64 7.5 23.5 39.5 55.5 ... 2.52e+03 2.536e+03 2.552e+03\n",
       "  * y        (y) float64 7.5 23.5 39.5 55.5 ... 2.52e+03 2.536e+03 2.552e+03\n",
       "  * z        (z) float64 7.5 23.5 39.5 55.5 ... 2.12e+03 2.136e+03 2.152e+03\n",
       "Attributes:\n",
       "    direction:  [[1.0, 0.0, 0.0], [0.0, 1.0, 0.0], [0.0, 0.0, 1.0]]\n",
       "    units:      μm"
      ]
     },
     "execution_count": 8,
     "metadata": {},
     "output_type": "execute_result"
    }
   ],
   "source": [
    "da = ds.rec20160318_191511_232p3_2cm_cont__4097im_1500ms_ML17keV_6\n",
    "da"
   ]
  },
  {
   "cell_type": "code",
   "execution_count": 9,
   "metadata": {},
   "outputs": [
    {
     "data": {
      "text/plain": [
       "numpy.ndarray"
      ]
     },
     "execution_count": 9,
     "metadata": {},
     "output_type": "execute_result"
    }
   ],
   "source": [
    "type(da.values)"
   ]
  },
  {
   "cell_type": "code",
   "execution_count": 10,
   "metadata": {},
   "outputs": [
    {
     "data": {
      "text/plain": [
       "dask.array.core.Array"
      ]
     },
     "execution_count": 10,
     "metadata": {},
     "output_type": "execute_result"
    }
   ],
   "source": [
    "type(da.data)"
   ]
  },
  {
   "cell_type": "code",
   "execution_count": 11,
   "metadata": {},
   "outputs": [
    {
     "data": {
      "application/vnd.jupyter.widget-view+json": {
       "model_id": "3fabf9bc520d4de7953fc2ff84db0db4",
       "version_major": 2,
       "version_minor": 0
      },
      "text/plain": [
       "Viewer(geometries=[], gradient_opacity=0.22, point_sets=[], rendered_image=<itkImagePython.itkImageUC3; proxy …"
      ]
     },
     "metadata": {},
     "output_type": "display_data"
    }
   ],
   "source": [
    "view(da.data)"
   ]
  },
  {
   "cell_type": "code",
   "execution_count": 12,
   "metadata": {},
   "outputs": [
    {
     "data": {
      "text/html": [
       "<pre>&lt;xarray.Dataset&gt;\n",
       "Dimensions:                                                     (x: 2560, y: 2560, z: 2160)\n",
       "Coordinates:\n",
       "  * x                                                           (x) float64 0.0 ... 2.559e+03\n",
       "  * y                                                           (y) float64 0.0 ... 2.559e+03\n",
       "  * z                                                           (z) float64 0.0 ... 2.159e+03\n",
       "Data variables:\n",
       "    rec20160318_191511_232p3_2cm_cont__4097im_1500ms_ML17keV_6  (z, y, x) uint8 dask.array&lt;chunksize=(64, 64, 64), meta=np.ndarray&gt;\n",
       "Attributes:\n",
       "    _MULTISCALE_LEVELS:  [&#x27;&#x27;, &#x27;level_1.zarr&#x27;, &#x27;level_2.zarr&#x27;, &#x27;level_3.zarr&#x27;,...\n",
       "    _SPATIAL_IMAGE:      rec20160318_191511_232p3_2cm_cont__4097im_1500ms_ML1...</pre>"
      ],
      "text/plain": [
       "<xarray.Dataset>\n",
       "Dimensions:                                                     (x: 2560, y: 2560, z: 2160)\n",
       "Coordinates:\n",
       "  * x                                                           (x) float64 0.0 ... 2.559e+03\n",
       "  * y                                                           (y) float64 0.0 ... 2.559e+03\n",
       "  * z                                                           (z) float64 0.0 ... 2.159e+03\n",
       "Data variables:\n",
       "    rec20160318_191511_232p3_2cm_cont__4097im_1500ms_ML17keV_6  (z, y, x) uint8 dask.array<chunksize=(64, 64, 64), meta=np.ndarray>\n",
       "Attributes:\n",
       "    _MULTISCALE_LEVELS:  ['', 'level_1.zarr', 'level_2.zarr', 'level_3.zarr',...\n",
       "    _SPATIAL_IMAGE:      rec20160318_191511_232p3_2cm_cont__4097im_1500ms_ML1..."
      ]
     },
     "execution_count": 12,
     "metadata": {},
     "output_type": "execute_result"
    }
   ],
   "source": [
    "full_ds = xr.open_zarr(store, consolidated=True)\n",
    "full_ds"
   ]
  },
  {
   "cell_type": "code",
   "execution_count": 13,
   "metadata": {},
   "outputs": [
    {
     "data": {
      "text/html": [
       "<pre>&lt;xarray.DataArray &#x27;rec20160318_191511_232p3_2cm_cont__4097im_1500ms_ML17keV_6&#x27; (z: 2160, y: 2560, x: 2560)&gt;\n",
       "dask.array&lt;zarr, shape=(2160, 2560, 2560), dtype=uint8, chunksize=(64, 64, 64), chunktype=numpy.ndarray&gt;\n",
       "Coordinates:\n",
       "  * x        (x) float64 0.0 1.0 2.0 3.0 ... 2.557e+03 2.558e+03 2.559e+03\n",
       "  * y        (y) float64 0.0 1.0 2.0 3.0 ... 2.557e+03 2.558e+03 2.559e+03\n",
       "  * z        (z) float64 0.0 1.0 2.0 3.0 ... 2.157e+03 2.158e+03 2.159e+03\n",
       "Attributes:\n",
       "    direction:  [[1.0, 0.0, 0.0], [0.0, 1.0, 0.0], [0.0, 0.0, 1.0]]\n",
       "    units:      μm</pre>"
      ],
      "text/plain": [
       "<xarray.DataArray 'rec20160318_191511_232p3_2cm_cont__4097im_1500ms_ML17keV_6' (z: 2160, y: 2560, x: 2560)>\n",
       "dask.array<zarr, shape=(2160, 2560, 2560), dtype=uint8, chunksize=(64, 64, 64), chunktype=numpy.ndarray>\n",
       "Coordinates:\n",
       "  * x        (x) float64 0.0 1.0 2.0 3.0 ... 2.557e+03 2.558e+03 2.559e+03\n",
       "  * y        (y) float64 0.0 1.0 2.0 3.0 ... 2.557e+03 2.558e+03 2.559e+03\n",
       "  * z        (z) float64 0.0 1.0 2.0 3.0 ... 2.157e+03 2.158e+03 2.159e+03\n",
       "Attributes:\n",
       "    direction:  [[1.0, 0.0, 0.0], [0.0, 1.0, 0.0], [0.0, 0.0, 1.0]]\n",
       "    units:      μm"
      ]
     },
     "execution_count": 13,
     "metadata": {},
     "output_type": "execute_result"
    }
   ],
   "source": [
    "full_da = full_ds.rec20160318_191511_232p3_2cm_cont__4097im_1500ms_ML17keV_6\n",
    "full_da"
   ]
  },
  {
   "cell_type": "code",
   "execution_count": 15,
   "metadata": {},
   "outputs": [],
   "source": [
    "# import napari"
   ]
  },
  {
   "cell_type": "code",
   "execution_count": null,
   "metadata": {},
   "outputs": [],
   "source": []
  }
 ],
 "metadata": {
  "kernelspec": {
   "display_name": "Python 3",
   "language": "python",
   "name": "python3"
  },
  "language_info": {
   "codemirror_mode": {
    "name": "ipython",
    "version": 3
   },
   "file_extension": ".py",
   "mimetype": "text/x-python",
   "name": "python",
   "nbconvert_exporter": "python",
   "pygments_lexer": "ipython3",
   "version": "3.6.8"
  }
 },
 "nbformat": 4,
 "nbformat_minor": 4
}
